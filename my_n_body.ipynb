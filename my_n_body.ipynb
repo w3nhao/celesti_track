{
 "cells": [
  {
   "cell_type": "code",
   "execution_count": 11,
   "metadata": {},
   "outputs": [],
   "source": [
    "import rebound\n",
    "import numpy as np"
   ]
  },
  {
   "cell_type": "code",
   "execution_count": 12,
   "metadata": {},
   "outputs": [],
   "source": [
    "import os\n",
    "\n",
    "os.environ[\"https_proxy\"] = \"http://localhost:49490\"\n",
    "os.environ[\"http_proxy\"] = \"http://localhost:49490\"\n",
    "os.environ[\"all_proxy\"] = \"socks5://localhost:49490\"\n",
    "os.environ[\"HTTPS_PROXY\"] = \"http://localhost:49490\"\n",
    "os.environ[\"HTTP_PROXY\"] = \"http://localhost:49490\"\n",
    "os.environ[\"ALL_PROXY\"] = \"socks5://localhost:49490\"\n",
    "\n"
   ]
  },
  {
   "cell_type": "code",
   "execution_count": 13,
   "metadata": {},
   "outputs": [
    {
     "name": "stdout",
     "output_type": "stream",
     "text": [
      "The autoreload extension is already loaded. To reload it, use:\n",
      "  %reload_ext autoreload\n"
     ]
    }
   ],
   "source": [
    "\n",
    "import rebound\n",
    "import time\n",
    "\n",
    "%load_ext autoreload\n",
    "%autoreload 2\n",
    "\n",
    "from utils import (\n",
    "    retry_on_exception,\n",
    "    sim_logger,\n",
    "    fetch_solar_system_bodies\n",
    ")\n",
    "\n",
    "sim_logger.setLevel(\"DEBUG\")\n",
    "\n",
    "\n",
    "# Details about the units and gravitational constant: https://rebound.readthedocs.io/en/latest/ipython_examples/Units/\n",
    "# Yr = 365.25 days (Julian)\n",
    "# AU = 1.495978707e+11 m\\\n",
    "# Msun = 1.98855e+30 kg\n",
    "# G = 4 * pi**2 (AU**3 / Msun / Yr**2) = 39.47841760435743"
   ]
  },
  {
   "cell_type": "code",
   "execution_count": null,
   "metadata": {},
   "outputs": [],
   "source": [
    "# new_celestials = fetch_solar_system_bodies()\n",
    "\n",
    "# import json\n",
    "\n",
    "# # Convert the dictionary to a JSON string with maximum precision\n",
    "# json_str = json.dumps(new_celestials, ensure_ascii=False, indent=None, separators=(',', ':'), sort_keys=True, default=lambda x: format(x, \".15g\"))\n",
    "\n",
    "# # Save to a JSONL file\n",
    "# with open(\"solar_system_data.jsonl\", \"w\") as file:\n",
    "#     file.write(json_str + \"\\n\")  # Add a newline to make it JSONL format"
   ]
  },
  {
   "cell_type": "code",
   "execution_count": 18,
   "metadata": {},
   "outputs": [],
   "source": [
    "import json\n",
    "\n",
    "celestial_bodies = json.load(open(\"solar_system_data.jsonl\", \"r\"))"
   ]
  },
  {
   "cell_type": "code",
   "execution_count": 20,
   "metadata": {},
   "outputs": [
    {
     "data": {
      "text/plain": [
       "1.0013418309074729"
      ]
     },
     "execution_count": 20,
     "metadata": {},
     "output_type": "execute_result"
    }
   ],
   "source": [
    "\n",
    "next(iter(celestial_bodies.values()))\n",
    "# add up all the masses\n",
    "total_mass = sum([body[\"m\"] for body in celestial_bodies.values()])\n",
    "total_mass"
   ]
  },
  {
   "cell_type": "code",
   "execution_count": null,
   "metadata": {},
   "outputs": [],
   "source": [
    "def nbody_simulation_3d(celestial_bodies,\n",
    "               tmax=1e4,\n",
    "               dt=1e-2, \n",
    "               integrator=\"whfast\",\n",
    "               collision=\"direct\",\n",
    "               collision_resolve=\"merge\",\n",
    "               filename=\"rebound.bin\"):\n",
    "    \n",
    "    sim = rebound.Simulation()\n",
    "    sim.units = (\"yr\", \"AU\", \"Msun\")\n",
    "    sim.integrator = integrator\n",
    "    sim.dt = dt\n",
    "    sim.add(celestial_bodies.values())\n",
    "    \n",
    "    # move to the center of mass frame\n",
    "    sim.move_to_com()\n",
    "    \n",
    "    sim.automateSimulationArchive(filename, interval=1e3, deletefile=True)\n",
    "    \n",
    "    sim.exit_min_distance = 0.01\n",
    "    \n",
    "    # collision detection\n",
    "    sim.collision = \"direct\"\n",
    "    sim.collision_resolve = \"merge\"\n",
    "    sim.collision_resolve_keep_sorted = 1\n",
    "    sim.collision_resolve_keep_sorted = 1\n",
    "    sim.collision_resolve"
   ]
  },
  {
   "cell_type": "code",
   "execution_count": 21,
   "metadata": {},
   "outputs": [],
   "source": [
    "import numpy as np\n",
    "import scipy\n",
    "solve_ivp = scipy.integrate.solve_ivp\n",
    "import os, sys"
   ]
  },
  {
   "cell_type": "code",
   "execution_count": null,
   "metadata": {},
   "outputs": [],
   "source": [
    "# ##### ENERGY #####\n",
    "# def potential_energy(state):\n",
    "#     '''U=\\sum_i,j>i G m_i m_j / r_ij'''\n",
    "#     tot_energy = np.zeros((1,1,state.shape[2]))\n",
    "#     for i in range(state.shape[0]):\n",
    "#         for j in range(i+1,state.shape[0]):\n",
    "#             r_ij = ((state[i:i+1,1:3] - state[j:j+1,1:3])**2).sum(1, keepdims=True)**.5\n",
    "#             m_i = state[i:i+1,0:1]\n",
    "#             m_j = state[j:j+1,0:1]\n",
    "#             tot_energy += m_i * m_j / r_ij\n",
    "#     U = -tot_energy.sum(0).squeeze()\n",
    "#     return U\n",
    "\n",
    "\n",
    "# def kinetic_energy(state):\n",
    "#     '''T=\\sum_i .5*m*v^2'''\n",
    "#     energies = .5 * state[:,0:1] * (state[:,3:5]**2).sum(1, keepdims=True)\n",
    "#     T = energies.sum(0).squeeze()\n",
    "#     return T\n",
    "\n",
    "\n",
    "# def total_energy(state):\n",
    "#     return potential_energy(state) + kinetic_energy(state)\n",
    "\n",
    "##### DYNAMICS #####\n",
    "def get_accelerations(state, epsilon=0):\n",
    "    # shape of state is [bodies x properties]\n",
    "    net_accs = [] # [nbodies x 2]\n",
    "    for i in range(state.shape[0]): # number of bodies\n",
    "        other_bodies = np.concatenate([state[:i, :], state[i+1:, :]], axis=0)\n",
    "        displacements = other_bodies[:, 1:3] - state[i, 1:3] # indexes 1:3 -> pxs, pys\n",
    "        distances = (displacements**2).sum(1, keepdims=True)**0.5\n",
    "        masses = other_bodies[:, 0:1] # index 0 -> mass\n",
    "        pointwise_accs = masses * displacements / (distances**3 + epsilon) # G=1\n",
    "        net_acc = pointwise_accs.sum(0, keepdims=True)\n",
    "        net_accs.append(net_acc)\n",
    "    net_accs = np.concatenate(net_accs, axis=0)\n",
    "    return net_accs\n",
    "  \n",
    "def update(t, state):\n",
    "    state = state.reshape(-1,5) # [bodies, properties]\n",
    "    deriv = np.zeros_like(state)\n",
    "    deriv[:,1:3] = state[:,3:5] # dx, dy = vx, vy\n",
    "    deriv[:,3:5] = get_accelerations(state)\n",
    "    return deriv.reshape(-1)"
   ]
  },
  {
   "cell_type": "code",
   "execution_count": null,
   "metadata": {},
   "outputs": [],
   "source": [
    "##### INTEGRATION SETTINGS #####\n",
    "def get_orbit(state, update_fn=update, t_points=100, t_span=[0,2], nbodies=3, **kwargs):\n",
    "    if not 'rtol' in kwargs.keys():\n",
    "        kwargs['rtol'] = 1e-9\n",
    "\n",
    "    orbit_settings = locals()\n",
    "\n",
    "    nbodies = state.shape[0]\n",
    "    t_eval = np.linspace(t_span[0], t_span[1], t_points)\n",
    "    orbit_settings['t_eval'] = t_eval\n",
    "\n",
    "    path = solve_ivp(fun=update_fn, t_span=t_span, y0=state.flatten(),\n",
    "                     t_eval=t_eval, **kwargs)\n",
    "    orbit = path['y'].reshape(nbodies, 5, t_points)\n",
    "    return orbit, orbit_settings"
   ]
  },
  {
   "cell_type": "code",
   "execution_count": null,
   "metadata": {},
   "outputs": [],
   "source": [
    "##### INITIALIZE THE TWO BODIES #####\n",
    "def rotate2d(p, theta):\n",
    "  c, s = np.cos(theta), np.sin(theta)\n",
    "  R = np.array([[c, -s],[s, c]])\n",
    "  return (R @ p.reshape(2,1)).squeeze()\n",
    "\n",
    "def random_config(nu=2e-1, min_radius=0.9, max_radius=1.2):\n",
    "  '''This is not principled at all yet'''\n",
    "  state = np.zeros((3,5))\n",
    "  state[:,0] = 1\n",
    "  p1 = 2 * np.random.rand(2) - 1 # random position in [-1,1] x [-1,1]\n",
    "  r = np.random.rand() * (max_radius-min_radius) + min_radius\n",
    "  \n",
    "  p1 *= r/np.sqrt( np.sum((p1**2)) )\n",
    "  p2 = rotate2d(p1, theta=2*np.pi/3)\n",
    "  p3 = rotate2d(p2, theta=2*np.pi/3)\n",
    "\n",
    "  # # velocity that yields a circular orbit\n",
    "  v1 = rotate2d(p1, theta=np.pi/2)\n",
    "  v1 = v1 / r**1.5\n",
    "  v1 = v1 * np.sqrt(np.sin(np.pi/3)/(2*np.cos(np.pi/6)**2)) # scale factor to get circular trajectories\n",
    "  v2 = rotate2d(v1, theta=2*np.pi/3)\n",
    "  v3 = rotate2d(v2, theta=2*np.pi/3)\n",
    "  \n",
    "  # make the circular orbits slightly chaotic\n",
    "  v1 *= 1 + nu*(2*np.random.rand(2) - 1)\n",
    "  v2 *= 1 + nu*(2*np.random.rand(2) - 1)\n",
    "  v3 *= 1 + nu*(2*np.random.rand(2) - 1)\n",
    "\n",
    "  state[0,1:3], state[0,3:5] = p1, v1\n",
    "  state[1,1:3], state[1,3:5] = p2, v2\n",
    "  state[2,1:3], state[2,3:5] = p3, v3\n",
    "  return state"
   ]
  },
  {
   "cell_type": "code",
   "execution_count": null,
   "metadata": {},
   "outputs": [],
   "source": [
    "##### INTEGRATE AN ORBIT OR TWO #####\n",
    "def sample_orbits(timesteps=20, trials=5000, nbodies=3, orbit_noise=2e-1,\n",
    "                  min_radius=0.9, max_radius=1.2, t_span=[0, 5], verbose=False, **kwargs):\n",
    "    \n",
    "    orbit_settings = locals()\n",
    "    if verbose:\n",
    "        print(\"Making a dataset of near-circular 3-body orbits:\")\n",
    "    \n",
    "    x, dx, e = [], [], []\n",
    "    N = timesteps * trials\n",
    "    while len(x) < N:\n",
    "\n",
    "        state = random_config(nu=orbit_noise, min_radius=min_radius, max_radius=max_radius)\n",
    "        orbit, settings = get_orbit(state, t_points=timesteps, t_span=t_span, nbodies=nbodies, **kwargs)\n",
    "        batch = orbit.transpose(2,0,1).reshape(-1,nbodies*5)\n",
    "        \n",
    "        for state in batch:\n",
    "            dstate = update(None, state)\n",
    "            \n",
    "            # reshape from [nbodies, state] where state=[m, qx, qy, px, py]\n",
    "            # to [canonical_coords] = [qx1, qx2, qy1, qy2, px1,px2,....]\n",
    "            \n",
    "            coords = state.reshape(nbodies,5).T[1:].flatten()\n",
    "            x.append(coords)\n",
    "\n",
    "    data = {'coords': np.stack(x)[:N]}\n",
    "    \n",
    "    return data, orbit_settings"
   ]
  },
  {
   "cell_type": "code",
   "execution_count": null,
   "metadata": {},
   "outputs": [],
   "source": [
    "# import numpy as np\n",
    "\n",
    "# def initialize_solar_system(n=9, sun_mass=1e6, min_dist=0.9, max_dist=1.2, nu=2e-1):\n",
    "#     '''Initialize a mock solar system with n bodies'''\n",
    "    \n",
    "#     # Initial state [m, vx, vy, vz, x, y, z]\n",
    "#     state = np.zeros((n, 7))\n",
    "    \n",
    "#     # Set the Sun at the center with a large mass and zero velocity\n",
    "#     state[0, 0] = sun_mass  # Sun's mass\n",
    "#     state[0, 4:7] = 0  # Sun's position\n",
    "\n",
    "#     for i in range(1, n):\n",
    "#         # Set mass (considerably less than the Sun)\n",
    "#         state[i, 0] = 1  # Example mass; can be randomized\n",
    "        \n",
    "#         # Random distance from the Sun\n",
    "#         r = np.random.rand() * (max_dist - min_dist) + min_dist\n",
    "        \n",
    "#         # Random position in 3D space but at distance r from Sun\n",
    "#         rand_dir = np.random.randn(3)  # Random direction\n",
    "#         rand_dir /= np.linalg.norm(rand_dir)  # Normalize to unit vector\n",
    "#         state[i, 4:7] = r * rand_dir\n",
    "        \n",
    "#         # Velocity for roughly circular orbit, perturbed slightly for randomness\n",
    "#         v = np.cross([0, 0, 1], state[i, 4:7])\n",
    "#         v /= np.linalg.norm(v)\n",
    "#         v *= np.sqrt(sun_mass / r**3)\n",
    "        \n",
    "#         # Make orbits slightly chaotic\n",
    "#         v *= 1 + nu*(2*np.random.rand(3) - 1)\n",
    "#         state[i, 1:4] = v\n",
    "\n",
    "#     return state"
   ]
  },
  {
   "cell_type": "code",
   "execution_count": null,
   "metadata": {},
   "outputs": [],
   "source": [
    "data = sample_orbits(timesteps=200, trials=5, nbodies=3, orbit_noise=2e-1, min_radius=0.9, max_radius=1.2, t_span=[0, 5], verbose=True)\n",
    "\n",
    "# print(data.keys())\n",
    "# print(data['coords'].shape)\n",
    "# print(data['dcoords'].shape)\n",
    "# print(data['energy'].shape)\n",
    "# print(data['meta'])"
   ]
  }
 ],
 "metadata": {
  "kernelspec": {
   "display_name": "sci_discover",
   "language": "python",
   "name": "python3"
  },
  "language_info": {
   "codemirror_mode": {
    "name": "ipython",
    "version": 3
   },
   "file_extension": ".py",
   "mimetype": "text/x-python",
   "name": "python",
   "nbconvert_exporter": "python",
   "pygments_lexer": "ipython3",
   "version": "3.11.5"
  }
 },
 "nbformat": 4,
 "nbformat_minor": 2
}

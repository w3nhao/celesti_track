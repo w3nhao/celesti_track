{
 "cells": [
  {
   "cell_type": "code",
   "execution_count": 7,
   "metadata": {},
   "outputs": [],
   "source": [
    "from dataclasses import dataclass, field, asdict\n",
    "from typing import Optional\n",
    "import rebound\n",
    "import hashlib\n",
    "import numpy as np\n",
    "import os \n",
    "\n",
    "from utils import generate_sample_idxs\n",
    "\n",
    "\n",
    "@dataclass\n",
    "class SimConfig:\n",
    "    celestial_init_states: dict\n",
    "    dt: float = 1e-1\n",
    "    units: tuple = (\"yr\", \"AU\", \"Msun\")\n",
    "    integrator: str = \"whfast\"\n",
    "    record_steps: int = 1\n",
    "    theory: Optional[str] = field(default=None)\n",
    "    filename: Optional[str] = field(default=None)\n",
    "    \n",
    "    def __post_init__(self):\n",
    "        default_svae_dir = os.path.join(os.getcwd(), \"data/simulations\")\n",
    "        os.makedirs(default_svae_dir, exist_ok=True)\n",
    "        \n",
    "        if not self.filename:\n",
    "            setting_str = str(asdict(self))\n",
    "            hash_obj = hashlib.sha256(setting_str.encode())\n",
    "            self.filename = os.path.join(default_svae_dir, f\"sim_{hash_obj.hexdigest()}.bin\")\n",
    "\n",
    "\n",
    "def init_simulation(config: SimConfig):\n",
    "    sim = rebound.Simulation()\n",
    "    sim.units = config.units\n",
    "    sim.integrator = config.integrator\n",
    "    sim.dt = config.dt\n",
    "    \n",
    "    for key, body in config.celestial_init_states.items():\n",
    "        sim.add(**body)\n",
    "    \n",
    "    # Move to the center of mass frame\n",
    "    sim.move_to_com()\n",
    "    \n",
    "    sim.automateSimulationArchive(config.filename, step=config.record_steps, deletefile=True)\n",
    "    \n",
    "    return sim\n",
    "\n",
    "def run_simulation(sim, tmax):\n",
    "    print(f\"Running simulation for {tmax} years, each step is {sim.dt} years\")\n",
    "    print(f\"Totally steps: {int(tmax/sim.dt) + 1} (including initial step)\")\n",
    "    sim.integrate(tmax)\n",
    "    return sim\n",
    "\n",
    "def particle_to_dict(particle: rebound.Particle):\n",
    "    m = particle.m\n",
    "    x, y, z = particle.xyz\n",
    "    vx, vy, vz = particle.vxyz\n",
    "    return {\"m\": m, \"x\": x, \"y\": y, \"z\": z, \"vx\": vx, \"vy\": vy, \"vz\": vz}\n",
    "\n",
    "def stack_positions_or_velocities(data: dict, keys: list[str] = [\"x\", \"y\", \"z\"]):\n",
    "    # name: celestial body name\n",
    "    return np.stack([np.column_stack([data[name][k] for k in keys]) for name in list(data.keys())], axis=0)\n",
    "\n",
    "def isolate_neptune(data: dict, name: str = \"Neptune\", keys: list[str] = [\"x\", \"y\", \"z\"]):\n",
    "    neptune = data[name]\n",
    "    rest = {k: v for k, v in data.items() if k != name}\n",
    "    neptune_orbit = np.column_stack([neptune[k] for k in keys])\n",
    "    rest_orbit = stack_positions_or_velocities(rest, keys)\n",
    "    all_orbit = stack_positions_or_velocities(data, keys)\n",
    "    return neptune_orbit, rest_orbit, all_orbit"
   ]
  },
  {
   "cell_type": "code",
   "execution_count": 8,
   "metadata": {},
   "outputs": [
    {
     "name": "stdout",
     "output_type": "stream",
     "text": [
      "Running simulation for 200.0 years, each step is 0.1 years\n",
      "Totally steps: 2001 (including initial step)\n"
     ]
    }
   ],
   "source": [
    "import json\n",
    "\n",
    "n_samples = 64\n",
    "position_axes = [\"x\", \"y\", \"z\"]\n",
    "velocity_axes = [\"vx\", \"vy\", \"vz\"]\n",
    "\n",
    "celestial_init_states = json.load(open(\"solar_system_data.json\", \"r\"))\n",
    "celestial_masses = [body[\"m\"] for body in celestial_init_states.values()]\n",
    "celestial_names = [body for body in celestial_init_states.keys()]\n",
    "\n",
    "config = SimConfig(celestial_init_states, dt=0.1, record_steps=1)\n",
    "sim = init_simulation(config)\n",
    "sim = run_simulation(sim, tmax=2e2)\n",
    "del sim\n",
    "\n",
    "sim_archive = rebound.SimulationArchive(config.filename)\n",
    "sample_idxs = generate_sample_idxs(n_samples, len(sim_archive), interval=\"equal\")\n",
    "sample_snapshots = [sim_archive[i] for i in sample_idxs]\n",
    "\n",
    "celestial_names = [body for body in config.celestial_init_states.keys()]\n",
    "\n",
    "# Extract data from snapshots\n",
    "snapshots_data = [{name: particle_to_dict(body) for name, body in zip(celestial_names, snapshot.particles)} \n",
    "                for snapshot in sample_snapshots]\n",
    "\n",
    "# Initialize data structures for positions and velocities\n",
    "celestial_positions = {name: {axis: [] for axis in position_axes} for name in celestial_names}\n",
    "celestial_velocities = {name: {axis: [] for axis in velocity_axes} for name in celestial_names}\n",
    "\n",
    "# Populate data structures with data from snapshots\n",
    "for snapshot in snapshots_data:\n",
    "    for name in celestial_names:\n",
    "        for p_axis, v_axis in zip(position_axes, velocity_axes):\n",
    "            celestial_positions[name][p_axis].append(snapshot[name][p_axis])\n",
    "            celestial_velocities[name][v_axis].append(snapshot[name][v_axis])\n",
    "\n",
    "# stack the positions and velocities as numpy arrays [nbodies, nsteps, axes]\n",
    "# orbit_velocities_np = stack_positions_or_velocities(celestial_velocities, velocity_axes)\n",
    "# orbit_positions_np = stack_positions_or_velocities(celestial_positions, position_axes)\n",
    "\n",
    "neptune_orbit, rest_orbit, all_orbit = isolate_neptune(celestial_positions)"
   ]
  },
  {
   "cell_type": "code",
   "execution_count": 9,
   "metadata": {},
   "outputs": [
    {
     "name": "stdout",
     "output_type": "stream",
     "text": [
      "Saving orbits to /data/wenhao/celesti_track/data/orbit_coordinates/sim_8acf215380a9f2badf71d5002da504f31e3e31baf628f03973b777f391a949e4.npz\n"
     ]
    }
   ],
   "source": [
    "orbit_coord_metadata = {\n",
    "    'celestial_names': celestial_names,\n",
    "    'celestial_masses': celestial_masses,\n",
    "    'simulation_config': asdict(config),\n",
    "    'time_step': 64,\n",
    "    'axes': ['x', 'y', 'z'],\n",
    "    # 'data_format': \"name x time_step x position_xyz\",\n",
    "}\n",
    "\n",
    "# save \n",
    "orbits_save_dir = os.path.join(os.getcwd(), \"data/orbit_coordinates\")\n",
    "os.makedirs(orbits_save_dir, exist_ok=True)\n",
    "orbits_save_path = os.path.join(orbits_save_dir, config.filename.split(\"/\")[-1].replace(\".bin\", \".npz\"))\n",
    "print(f\"Saving orbits to {orbits_save_path}\")\n",
    "np.savez_compressed(orbits_save_path, metadata=orbit_coord_metadata, neptune=neptune_orbit, rest=rest_orbit, all=all_orbit)"
   ]
  },
  {
   "cell_type": "code",
   "execution_count": null,
   "metadata": {},
   "outputs": [],
   "source": []
  }
 ],
 "metadata": {
  "kernelspec": {
   "display_name": "sci_discover",
   "language": "python",
   "name": "python3"
  },
  "language_info": {
   "codemirror_mode": {
    "name": "ipython",
    "version": 3
   },
   "file_extension": ".py",
   "mimetype": "text/x-python",
   "name": "python",
   "nbconvert_exporter": "python",
   "pygments_lexer": "ipython3",
   "version": "3.11.5"
  }
 },
 "nbformat": 4,
 "nbformat_minor": 2
}
